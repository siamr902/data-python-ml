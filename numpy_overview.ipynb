{
  "nbformat": 4,
  "nbformat_minor": 0,
  "metadata": {
    "colab": {
      "provenance": [],
      "authorship_tag": "ABX9TyPcMiR3rwjGANECvsF5mAlQ",
      "include_colab_link": true
    },
    "kernelspec": {
      "name": "python3",
      "display_name": "Python 3"
    },
    "language_info": {
      "name": "python"
    }
  },
  "cells": [
    {
      "cell_type": "markdown",
      "metadata": {
        "id": "view-in-github",
        "colab_type": "text"
      },
    },
    {
      "cell_type": "markdown",
      "source": [
        "**NumPy Python Library**"
      ],
      "metadata": {
        "id": "acjOSDK9DrW_"
      }
    },
    {
      "cell_type": "markdown",
      "source": [
        "Advantages of NumPy Arrays:\n",
        "*   Faster computations and performance \n",
        "*   Allows multiple mathematical operations and built-in functions for tasks like linear algebra and statistics.\n",
        "\n"
      ],
      "metadata": {
        "id": "_OvffAMBs1nz"
      }
    },
    {
      "cell_type": "code",
      "source": [
        "import numpy as np\n",
        "print(np.__version__)"
      ],
      "metadata": {
        "colab": {
          "base_uri": "https://localhost:8080/"
        },
        "id": "7HM9kAI_uTou",
        "outputId": "773e7e85-7b40-4d81-ca5c-f1388b7193ad"
      },
      "execution_count": null,
      "outputs": [
        {
          "output_type": "stream",
          "name": "stdout",
          "text": [
            "1.21.6\n"
          ]
        }
      ]
    },
    {
      "cell_type": "markdown",
      "source": [
        "**List vs. NumPy - Time Performance**"
      ],
      "metadata": {
        "id": "2m-lgJL3upqy"
      }
    },
    {
      "cell_type": "code",
      "source": [
        "from time import process_time"
      ],
      "metadata": {
        "id": "Rj_Nljknuvyx"
      },
      "execution_count": null,
      "outputs": []
    },
    {
      "cell_type": "markdown",
      "source": [
        "Time taken by list vs. numpy array"
      ],
      "metadata": {
        "id": "GMRXT5Tuu3bB"
      }
    },
    {
      "cell_type": "code",
      "source": [
        "python_list = [x for x in range(10000)]\n",
        "start_time = process_time()\n",
        "\n",
        "python_list = [n + 5 for n in python_list]\n",
        "end_time = process_time()\n",
        "\n",
        "print(end_time - start_time)"
      ],
      "metadata": {
        "colab": {
          "base_uri": "https://localhost:8080/"
        },
        "id": "0v9PrRONvGGi",
        "outputId": "377cee67-8a5b-4cfe-b676-2c3cc357ab1d"
      },
      "execution_count": null,
      "outputs": [
        {
          "output_type": "stream",
          "name": "stdout",
          "text": [
            "0.0016155200000005365\n"
          ]
        }
      ]
    },
    {
      "cell_type": "code",
      "source": [
        "np_array = np.array([x for x in range(10000)])\n",
        "start_time = process_time()\n",
        "\n",
        "np_array += 5\n",
        "end_time = process_time()\n",
        "\n",
        "print(end_time - start_time)"
      ],
      "metadata": {
        "colab": {
          "base_uri": "https://localhost:8080/"
        },
        "id": "dSIzi5cNvrn5",
        "outputId": "5abef218-986c-4048-cb36-f20013725a53"
      },
      "execution_count": null,
      "outputs": [
        {
          "output_type": "stream",
          "name": "stdout",
          "text": [
            "0.00010828300000031987\n"
          ]
        }
      ]
    },
    {
      "cell_type": "markdown",
      "source": [
        "**NumPy Arrays**"
      ],
      "metadata": {
        "id": "1vXOBSsIwfpV"
      }
    },
    {
      "cell_type": "code",
      "source": [
        "# list\n",
        "list1 = [1, 2, 3, 4, 5]\n",
        "print(list1)\n",
        "type(list1)"
      ],
      "metadata": {
        "colab": {
          "base_uri": "https://localhost:8080/"
        },
        "id": "5s3i4f1xwjCX",
        "outputId": "62e285d5-bdc2-4dc1-e024-3d155c252a1e"
      },
      "execution_count": null,
      "outputs": [
        {
          "output_type": "stream",
          "name": "stdout",
          "text": [
            "[1, 2, 3, 4, 5]\n"
          ]
        },
        {
          "output_type": "execute_result",
          "data": {
            "text/plain": [
              "list"
            ]
          },
          "metadata": {},
          "execution_count": 10
        }
      ]
    },
    {
      "cell_type": "code",
      "source": [
        "np_array = np.array([1, 2, 3, 4, 5])\n",
        "print(np_array)\n",
        "type(np_array)"
      ],
      "metadata": {
        "colab": {
          "base_uri": "https://localhost:8080/"
        },
        "id": "TzF-9jE-wyrY",
        "outputId": "5c72e85f-811d-48e6-d2a9-0fe63ca70ee8"
      },
      "execution_count": null,
      "outputs": [
        {
          "output_type": "stream",
          "name": "stdout",
          "text": [
            "[1 2 3 4 5]\n"
          ]
        },
        {
          "output_type": "execute_result",
          "data": {
            "text/plain": [
              "numpy.ndarray"
            ]
          },
          "metadata": {},
          "execution_count": 11
        }
      ]
    },
    {
      "cell_type": "markdown",
      "source": [
        "Notice how there aren't commas separating the elements in the numpy array above. Let's check out different dimensions now."
      ],
      "metadata": {
        "id": "m6XNqZcfxDFK"
      }
    },
    {
      "cell_type": "code",
      "source": [
        "a = np.array([1, 2, 3, 4, 5])\n",
        "print(a)\n",
        "a.shape"
      ],
      "metadata": {
        "colab": {
          "base_uri": "https://localhost:8080/"
        },
        "id": "9966rUgmxKr6",
        "outputId": "6245a6ce-3ae0-4cec-c6c5-570c7c5b667e"
      },
      "execution_count": null,
      "outputs": [
        {
          "output_type": "stream",
          "name": "stdout",
          "text": [
            "[1 2 3 4 5]\n"
          ]
        },
        {
          "output_type": "execute_result",
          "data": {
            "text/plain": [
              "(5,)"
            ]
          },
          "metadata": {},
          "execution_count": 15
        }
      ]
    },
    {
      "cell_type": "code",
      "source": [
        "# 2 dimensional array\n",
        "b = np.array([(1, 2, 3, 4), (5, 6, 7, 8)])\n",
        "print(b)\n",
        "b.shape"
      ],
      "metadata": {
        "colab": {
          "base_uri": "https://localhost:8080/"
        },
        "id": "oZP7KKxexk92",
        "outputId": "4ccafede-f01c-4eb7-9095-df3c79c0f579"
      },
      "execution_count": null,
      "outputs": [
        {
          "output_type": "stream",
          "name": "stdout",
          "text": [
            "[[1 2 3 4]\n",
            " [5 6 7 8]]\n"
          ]
        },
        {
          "output_type": "execute_result",
          "data": {
            "text/plain": [
              "(2, 4)"
            ]
          },
          "metadata": {},
          "execution_count": 17
        }
      ]
    },
    {
      "cell_type": "code",
      "source": [
        "c = np.array([(1, 2, 3, 4), (5, 6, 7, 8)], dtype=float)\n",
        "print(c)"
      ],
      "metadata": {
        "colab": {
          "base_uri": "https://localhost:8080/"
        },
        "id": "oEUWXMQvyJAs",
        "outputId": "c765273e-07b7-40e6-ffca-feb1c929dbe2"
      },
      "execution_count": null,
      "outputs": [
        {
          "output_type": "stream",
          "name": "stdout",
          "text": [
            "[[1. 2. 3. 4.]\n",
            " [5. 6. 7. 8.]]\n"
          ]
        }
      ]
    },
    {
      "cell_type": "markdown",
      "source": [
        "**Initial Placeholders in numpy arrays**"
      ],
      "metadata": {
        "id": "FNregPS1yTos"
      }
    },
    {
      "cell_type": "code",
      "source": [
        "# create an array of zeros\n",
        "x = np.zeros((4, 5))\n",
        "print(x)"
      ],
      "metadata": {
        "colab": {
          "base_uri": "https://localhost:8080/"
        },
        "id": "LuBIwjVUydUM",
        "outputId": "f2fec4ac-4c1c-4faa-b682-50606ecff7f9"
      },
      "execution_count": null,
      "outputs": [
        {
          "output_type": "stream",
          "name": "stdout",
          "text": [
            "[[0. 0. 0. 0. 0.]\n",
            " [0. 0. 0. 0. 0.]\n",
            " [0. 0. 0. 0. 0.]\n",
            " [0. 0. 0. 0. 0.]]\n"
          ]
        }
      ]
    },
    {
      "cell_type": "code",
      "source": [
        "# similarly, an array of ones\n",
        "y = np.ones((3, 4))\n",
        "print(y)"
      ],
      "metadata": {
        "colab": {
          "base_uri": "https://localhost:8080/"
        },
        "id": "njGNIdtRy6Dq",
        "outputId": "1343d91d-359a-44ba-b052-f94383d9c590"
      },
      "execution_count": null,
      "outputs": [
        {
          "output_type": "stream",
          "name": "stdout",
          "text": [
            "[[1. 1. 1. 1.]\n",
            " [1. 1. 1. 1.]\n",
            " [1. 1. 1. 1.]]\n"
          ]
        }
      ]
    },
    {
      "cell_type": "code",
      "source": [
        "# arrays of a particular value\n",
        "z = np.full((3, 3), 5)\n",
        "print(z)"
      ],
      "metadata": {
        "colab": {
          "base_uri": "https://localhost:8080/"
        },
        "id": "i48nSIg4y8zE",
        "outputId": "f1d6521c-88b1-4480-b95a-cb241f23d91d"
      },
      "execution_count": null,
      "outputs": [
        {
          "output_type": "stream",
          "name": "stdout",
          "text": [
            "[[5 5 5]\n",
            " [5 5 5]\n",
            " [5 5 5]]\n"
          ]
        }
      ]
    },
    {
      "cell_type": "code",
      "source": [
        "# create an identity matrix -> these have the same numbers of rows and cols\n",
        "a = np.eye(4)\n",
        "print(a)"
      ],
      "metadata": {
        "colab": {
          "base_uri": "https://localhost:8080/"
        },
        "id": "lz7A43VNzINr",
        "outputId": "3ea04217-a76e-401e-a874-7d5ab78047f2"
      },
      "execution_count": null,
      "outputs": [
        {
          "output_type": "stream",
          "name": "stdout",
          "text": [
            "[[1. 0. 0. 0.]\n",
            " [0. 1. 0. 0.]\n",
            " [0. 0. 1. 0.]\n",
            " [0. 0. 0. 1.]]\n"
          ]
        }
      ]
    },
    {
      "cell_type": "markdown",
      "source": [
        "**Array utilities**"
      ],
      "metadata": {
        "id": "dY7gzKu21S42"
      }
    },
    {
      "cell_type": "code",
      "source": [
        "# create a numpy array with random values\n",
        "b = np.random.random((3, 4))\n",
        "print(b)"
      ],
      "metadata": {
        "colab": {
          "base_uri": "https://localhost:8080/"
        },
        "id": "ImI-b6Zxzmrt",
        "outputId": "784b0174-05ee-41e9-f775-8c5d97c8d321"
      },
      "execution_count": null,
      "outputs": [
        {
          "output_type": "stream",
          "name": "stdout",
          "text": [
            "[[0.07580647 0.98496445 0.84576189 0.88490609]\n",
            " [0.61106934 0.8429666  0.13027711 0.13652534]\n",
            " [0.193845   0.19384843 0.37208344 0.20094075]]\n"
          ]
        }
      ]
    },
    {
      "cell_type": "code",
      "source": [
        "# random integer values within a specific range\n",
        "c = np.random.randint(10, 100, (3, 3))\n",
        "print(c)"
      ],
      "metadata": {
        "colab": {
          "base_uri": "https://localhost:8080/"
        },
        "id": "YLCl4ZuNz1ml",
        "outputId": "07166e63-ba95-49ce-f56c-ee87ec95420a"
      },
      "execution_count": null,
      "outputs": [
        {
          "output_type": "stream",
          "name": "stdout",
          "text": [
            "[[12 73 19]\n",
            " [88 76 23]\n",
            " [72 55 14]]\n"
          ]
        }
      ]
    },
    {
      "cell_type": "code",
      "source": [
        "# array of evenly-spaced values\n",
        "d = np.linspace(10, 30, 5) # 5 values between the range of 10-30, evenly-spaced\n",
        "print(d)"
      ],
      "metadata": {
        "colab": {
          "base_uri": "https://localhost:8080/"
        },
        "id": "9jpaq9ka0QMx",
        "outputId": "2e1e3e45-075c-4046-b1ac-0d3a94294696"
      },
      "execution_count": null,
      "outputs": [
        {
          "output_type": "stream",
          "name": "stdout",
          "text": [
            "[10. 15. 20. 25. 30.]\n"
          ]
        }
      ]
    },
    {
      "cell_type": "code",
      "source": [
        "e = np.linspace(10, 30, 6)\n",
        "print(e)"
      ],
      "metadata": {
        "colab": {
          "base_uri": "https://localhost:8080/"
        },
        "id": "yUldqMvd0mgi",
        "outputId": "4668de19-01ab-497a-cae5-0001d7586cea"
      },
      "execution_count": null,
      "outputs": [
        {
          "output_type": "stream",
          "name": "stdout",
          "text": [
            "[10. 14. 18. 22. 26. 30.]\n"
          ]
        }
      ]
    },
    {
      "cell_type": "code",
      "source": [
        "# array of evenly-spaced values -> specifying the step \n",
        "f = np.arange(10, 30, 5)\n",
        "print(f)\n",
        "\n",
        "g = np.arange(10, 30, 8)\n",
        "print(g)"
      ],
      "metadata": {
        "colab": {
          "base_uri": "https://localhost:8080/"
        },
        "id": "rAWEgoyd01yG",
        "outputId": "535c4679-f45a-4df7-f02b-00ea74e62d49"
      },
      "execution_count": null,
      "outputs": [
        {
          "output_type": "stream",
          "name": "stdout",
          "text": [
            "[10 15 20 25]\n",
            "[10 18 26]\n"
          ]
        }
      ]
    },
    {
      "cell_type": "markdown",
      "source": [
        "**Convert a list to a numpy array**"
      ],
      "metadata": {
        "id": "upCI2chj1Ytj"
      }
    },
    {
      "cell_type": "code",
      "source": [
        "another_list = [12, 53, 13, 19, 7]\n",
        "\n",
        "np_array = np.asarray(another_list)\n",
        "print(np_array)\n",
        "type(np_array)"
      ],
      "metadata": {
        "colab": {
          "base_uri": "https://localhost:8080/"
        },
        "id": "2BMzqbRB1bO8",
        "outputId": "0d76c6e3-e928-404d-a1e6-86a9a8897000"
      },
      "execution_count": null,
      "outputs": [
        {
          "output_type": "stream",
          "name": "stdout",
          "text": [
            "[12 53 13 19  7]\n"
          ]
        },
        {
          "output_type": "execute_result",
          "data": {
            "text/plain": [
              "numpy.ndarray"
            ]
          },
          "metadata": {},
          "execution_count": 35
        }
      ]
    },
    {
      "cell_type": "markdown",
      "source": [
        "**Analyzing a numpy array**"
      ],
      "metadata": {
        "id": "vl-MsZh_138W"
      }
    },
    {
      "cell_type": "code",
      "source": [
        "c = np.random.randint(10, 90, (5, 5))\n",
        "print(c)"
      ],
      "metadata": {
        "colab": {
          "base_uri": "https://localhost:8080/"
        },
        "id": "sk5c8Tab15yu",
        "outputId": "2082e16d-0b13-4fe2-f555-ecf19f5bb70b"
      },
      "execution_count": null,
      "outputs": [
        {
          "output_type": "stream",
          "name": "stdout",
          "text": [
            "[[72 11 81 45 13]\n",
            " [16 21 76 86 54]\n",
            " [43 21 54 72 44]\n",
            " [56 71 17 85 10]\n",
            " [35 45 85 49 69]]\n"
          ]
        }
      ]
    },
    {
      "cell_type": "code",
      "source": [
        "# array dimension\n",
        "print(c.shape) # (rows, cols)"
      ],
      "metadata": {
        "colab": {
          "base_uri": "https://localhost:8080/"
        },
        "id": "gLwMDNMu2BQM",
        "outputId": "2e580313-55c3-4991-ee2b-04e046405b84"
      },
      "execution_count": null,
      "outputs": [
        {
          "output_type": "stream",
          "name": "stdout",
          "text": [
            "(5, 5)\n"
          ]
        }
      ]
    },
    {
      "cell_type": "code",
      "source": [
        "# number of dimensions\n",
        "print(c.ndim)"
      ],
      "metadata": {
        "colab": {
          "base_uri": "https://localhost:8080/"
        },
        "id": "jena4P-l2Gy8",
        "outputId": "0f609516-ac2c-403d-d1c7-1d828c600789"
      },
      "execution_count": null,
      "outputs": [
        {
          "output_type": "stream",
          "name": "stdout",
          "text": [
            "2\n"
          ]
        }
      ]
    },
    {
      "cell_type": "code",
      "source": [
        "# number of total elements in the array\n",
        "print(c.size)"
      ],
      "metadata": {
        "colab": {
          "base_uri": "https://localhost:8080/"
        },
        "id": "422xHxvv2Qbe",
        "outputId": "168028c0-5344-4425-941f-3b5f990585ba"
      },
      "execution_count": null,
      "outputs": [
        {
          "output_type": "stream",
          "name": "stdout",
          "text": [
            "25\n"
          ]
        }
      ]
    },
    {
      "cell_type": "code",
      "source": [
        "# check the data type of the values in the array"
      ],
      "metadata": {
        "id": "WQtwI2N92Ysw"
      },
      "execution_count": null,
      "outputs": []
    },
    {
      "cell_type": "code",
      "source": [
        "print(c.dtype)"
      ],
      "metadata": {
        "colab": {
          "base_uri": "https://localhost:8080/"
        },
        "id": "miCxjDCb2cHk",
        "outputId": "5f127ebb-6eae-4d0a-eaac-afc049228665"
      },
      "execution_count": null,
      "outputs": [
        {
          "output_type": "stream",
          "name": "stdout",
          "text": [
            "int64\n"
          ]
        }
      ]
    },
    {
      "cell_type": "markdown",
      "source": [
        "**Math Operations**"
      ],
      "metadata": {
        "id": "aj2bpU4x2jaj"
      }
    },
    {
      "cell_type": "code",
      "source": [
        "list1 = [1, 2, 3, 4, 5]\n",
        "list2 = [6, 7, 8, 9, 10]\n",
        "print(list1 + list2) # simple concatenation we're all familiar with"
      ],
      "metadata": {
        "colab": {
          "base_uri": "https://localhost:8080/"
        },
        "id": "_96KtEnU2oCQ",
        "outputId": "e6124fa0-9275-4d06-a75f-7c010cc7da68"
      },
      "execution_count": null,
      "outputs": [
        {
          "output_type": "stream",
          "name": "stdout",
          "text": [
            "[1, 2, 3, 4, 5, 6, 7, 8, 9, 10]\n"
          ]
        }
      ]
    },
    {
      "cell_type": "code",
      "source": [
        "a = np.random.randint(0, 10, (3, 3))\n",
        "b = np.random.randint(10, 20, (3, 3))\n",
        "print(f\"{a}\\n\")\n",
        "print(f\"{b}\\n\")\n",
        "print(a + b)\n",
        "print(a - b)\n",
        "print(a * b)\n",
        "print(a / b)"
      ],
      "metadata": {
        "colab": {
          "base_uri": "https://localhost:8080/"
        },
        "id": "ApCBIjBC3FXX",
        "outputId": "795ef4e4-ab5e-4c0f-e830-6aa59d474dfd"
      },
      "execution_count": null,
      "outputs": [
        {
          "output_type": "stream",
          "name": "stdout",
          "text": [
            "[[2 9 4]\n",
            " [3 1 4]\n",
            " [1 6 5]]\n",
            "\n",
            "[[13 10 15]\n",
            " [13 16 18]\n",
            " [10 12 12]]\n",
            "\n",
            "[[15 19 19]\n",
            " [16 17 22]\n",
            " [11 18 17]]\n",
            "[[-11  -1 -11]\n",
            " [-10 -15 -14]\n",
            " [ -9  -6  -7]]\n",
            "[[26 90 60]\n",
            " [39 16 72]\n",
            " [10 72 60]]\n",
            "[[0.15384615 0.9        0.26666667]\n",
            " [0.23076923 0.0625     0.22222222]\n",
            " [0.1        0.5        0.41666667]]\n"
          ]
        }
      ]
    },
    {
      "cell_type": "code",
      "source": [
        "# another way\n",
        "a = np.random.randint(0, 10, (3, 3))\n",
        "b = np.random.randint(10, 20, (3, 3))\n",
        "print(a)\n",
        "print(b)"
      ],
      "metadata": {
        "colab": {
          "base_uri": "https://localhost:8080/"
        },
        "id": "fcnl6j2439Ap",
        "outputId": "d554919f-52f1-4836-cce0-5b53e0fb92ff"
      },
      "execution_count": null,
      "outputs": [
        {
          "output_type": "stream",
          "name": "stdout",
          "text": [
            "[[6 1 0]\n",
            " [5 9 6]\n",
            " [7 7 5]]\n",
            "[[11 16 14]\n",
            " [13 15 17]\n",
            " [17 14 16]]\n"
          ]
        }
      ]
    },
    {
      "cell_type": "code",
      "source": [
        "print(np.add(a, b))\n",
        "print(np.subtract(a, b))\n",
        "print(np.multiply(a, b))\n",
        "print(np.divide(a, b))"
      ],
      "metadata": {
        "colab": {
          "base_uri": "https://localhost:8080/"
        },
        "id": "QwxPNlf24S2f",
        "outputId": "717ddda7-aa65-4dba-98bd-a77f5f90928a"
      },
      "execution_count": null,
      "outputs": [
        {
          "output_type": "stream",
          "name": "stdout",
          "text": [
            "[[17 17 14]\n",
            " [18 24 23]\n",
            " [24 21 21]]\n",
            "[[ -5 -15 -14]\n",
            " [ -8  -6 -11]\n",
            " [-10  -7 -11]]\n",
            "[[ 66  16   0]\n",
            " [ 65 135 102]\n",
            " [119  98  80]]\n",
            "[[0.54545455 0.0625     0.        ]\n",
            " [0.38461538 0.6        0.35294118]\n",
            " [0.41176471 0.5        0.3125    ]]\n"
          ]
        }
      ]
    },
    {
      "cell_type": "markdown",
      "source": [
        "**Array Manipulation**"
      ],
      "metadata": {
        "id": "_CRB4sae4c-s"
      }
    },
    {
      "cell_type": "code",
      "source": [
        "arr = np.random.randint(0, 10, (2, 3))\n",
        "print(arr)\n",
        "print(arr.shape)"
      ],
      "metadata": {
        "colab": {
          "base_uri": "https://localhost:8080/"
        },
        "id": "-fwU6FTr4fz_",
        "outputId": "ff7d67dc-469b-4b10-da78-757727a358f5"
      },
      "execution_count": null,
      "outputs": [
        {
          "output_type": "stream",
          "name": "stdout",
          "text": [
            "[[9 4 7]\n",
            " [0 2 4]]\n",
            "(2, 3)\n"
          ]
        }
      ]
    },
    {
      "cell_type": "code",
      "source": [
        "# transpose\n",
        "trans = np.transpose(arr)\n",
        "print(trans)\n",
        "print(trans.shape)"
      ],
      "metadata": {
        "colab": {
          "base_uri": "https://localhost:8080/"
        },
        "id": "16N6fEXm4o66",
        "outputId": "f1e5639c-6713-4baf-acc9-4aa99b5b6e0a"
      },
      "execution_count": null,
      "outputs": [
        {
          "output_type": "stream",
          "name": "stdout",
          "text": [
            "[[9 0]\n",
            " [4 2]\n",
            " [7 4]]\n",
            "(3, 2)\n"
          ]
        }
      ]
    },
    {
      "cell_type": "code",
      "source": [
        "# reshaping an array\n",
        "a = np.random.randint(0, 10, (2, 3))\n",
        "print(a)\n",
        "print(a.shape)"
      ],
      "metadata": {
        "colab": {
          "base_uri": "https://localhost:8080/"
        },
        "id": "EvdYAxtr5KS5",
        "outputId": "30084347-a0b6-48f5-99d6-353c9f6b6d6e"
      },
      "execution_count": null,
      "outputs": [
        {
          "output_type": "stream",
          "name": "stdout",
          "text": [
            "[[4 8 5]\n",
            " [2 1 6]]\n",
            "(2, 3)\n"
          ]
        }
      ]
    },
    {
      "cell_type": "code",
      "source": [
        "b = a.reshape(3, 2)\n",
        "print(b)\n",
        "print(b.shape)"
      ],
      "metadata": {
        "colab": {
          "base_uri": "https://localhost:8080/"
        },
        "id": "yZjKu4jc5WRp",
        "outputId": "b185ae80-5ad9-412c-a794-fbbeab2809ed"
      },
      "execution_count": null,
      "outputs": [
        {
          "output_type": "stream",
          "name": "stdout",
          "text": [
            "[[4 8]\n",
            " [5 2]\n",
            " [1 6]]\n",
            "(3, 2)\n"
          ]
        }
      ]
    }
  ]
}
